{
 "cells": [
  {
   "cell_type": "code",
   "execution_count": 2,
   "id": "ac1c7ddc-b0bc-4340-bf51-caef194a5afe",
   "metadata": {},
   "outputs": [
    {
     "name": "stdout",
     "output_type": "stream",
     "text": [
      "--- Initial Pet Details ---\n",
      "Pet Information:\n",
      "  Name: Buddy\n",
      "  Type: Dog\n",
      "  Age: 3\n",
      "--------------------\n",
      "Pet Information:\n",
      "  Name: Whiskers\n",
      "  Type: Cat\n",
      "  Age: 5\n",
      "--------------------\n",
      "Updating Buddy's age from 3 to 4...\n",
      "\n",
      "--- Details After Update ---\n",
      "Pet Information:\n",
      "  Name: Buddy\n",
      "  Type: Dog\n",
      "  Age: 4\n",
      "--------------------\n"
     ]
    }
   ],
   "source": [
    "\n",
    "class Pet:\n",
    "    \n",
    "    def __init__(self, name, pet_type, age):\n",
    "       \n",
    "        self.name = name\n",
    "        self.pet_type = pet_type\n",
    "        self.age = age\n",
    "\n",
    "    def display_info(self):\n",
    "        print(f\"Pet Information:\")\n",
    "        print(f\"  Name: {self.name}\")\n",
    "        print(f\"  Type: {self.pet_type}\")\n",
    "        print(f\"  Age: {self.age}\")\n",
    "        print(\"-\" * 20)\n",
    "\n",
    "    def update_age(self, new_age):\n",
    "       \n",
    "        print(f\"Updating {self.name}'s age from {self.age} to {new_age}...\")\n",
    "        self.age = new_age\n",
    "\n",
    "pet1 = Pet(\"Buddy\", \"Dog\", 3)\n",
    "pet2 = Pet(\"Whiskers\", \"Cat\", 5)\n",
    "\n",
    "print(\"--- Initial Pet Details ---\")\n",
    "pet1.display_info()\n",
    "pet2.display_info()\n",
    "\n",
    "\n",
    "pet1.update_age(4)\n",
    "\n",
    "print(\"\\n--- Details After Update ---\")\n",
    "pet1.display_info()"
   ]
  },
  {
   "cell_type": "code",
   "execution_count": null,
   "id": "d9d4d1e3-0ab7-40a1-8b34-0e10d02168ac",
   "metadata": {},
   "outputs": [],
   "source": []
  }
 ],
 "metadata": {
  "kernelspec": {
   "display_name": "Python [conda env:base] *",
   "language": "python",
   "name": "conda-base-py"
  },
  "language_info": {
   "codemirror_mode": {
    "name": "ipython",
    "version": 3
   },
   "file_extension": ".py",
   "mimetype": "text/x-python",
   "name": "python",
   "nbconvert_exporter": "python",
   "pygments_lexer": "ipython3",
   "version": "3.12.7"
  }
 },
 "nbformat": 4,
 "nbformat_minor": 5
}
